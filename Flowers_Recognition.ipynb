{
  "nbformat": 4,
  "nbformat_minor": 0,
  "metadata": {
    "accelerator": "GPU",
    "colab": {
      "name": "Flowers_Recognition.ipynb",
      "provenance": [],
      "collapsed_sections": [],
      "include_colab_link": true
    },
    "kernelspec": {
      "display_name": "Python 3",
      "name": "python3"
    }
  },
  "cells": [
    {
      "cell_type": "markdown",
      "metadata": {
        "id": "view-in-github",
        "colab_type": "text"
      },
      "source": [
        "<a href=\"https://colab.research.google.com/github/IkhlasAhmad1998/DeepLearning_Assignments/blob/main/Flowers_Recognition.ipynb\" target=\"_parent\"><img src=\"https://colab.research.google.com/assets/colab-badge.svg\" alt=\"Open In Colab\"/></a>"
      ]
    },
    {
      "cell_type": "markdown",
      "metadata": {
        "id": "BXgJ6uT1NydQ"
      },
      "source": [
        "Assignment: Flowers Recognition <br>\n",
        "Dataset Description:<br>\n",
        "\n",
        "This dataset contains 4242 images of flowers.<br>\n",
        "The data collection is based on the data flicr, google images, yandex images.<br>\n",
        "You can use this datastet to recognize plants from the photo.<br>\n",
        "\n",
        "Attribute Information:<br>\n",
        "The pictures are divided into five classes: chamomile, tulip, rose, sunflower, dandelion.<br>\n",
        "For each class there are about 800 photos. Photos are not high resolution, about 320x240 pixels. <br>\n",
        "<b>Also explore how to resize images in tensorflow and then resize all the images to a same size. </b> <br>\n",
        "This is a Multiclass Classification Problem.<br>\n",
        "\n",
        "\n"
      ]
    },
    {
      "cell_type": "markdown",
      "metadata": {
        "id": "T7vy-ktuOKJH"
      },
      "source": [
        "WORKFLOW : <br>\n",
        "Load Data <br>\n",
        "Split into 60 and 40 ratio.<br>\n",
        "Encode labels.<br>\n",
        "Create Model<br>\n",
        "Compilation Step (Note : Its a Multiclass Classification problem , select loss , metrics according to it)<br>\n",
        "Train the Model.<br>\n",
        "If the model gets overfit tune your model by changing the units , No. of layers , epochs , add dropout layer or add Regularizer according to the need .<br>\n",
        "Prediction should be > 85%<br>\n",
        "Evaluation Step<br>\n",
        "Prediction<br>\n",
        "\n",
        "\n"
      ]
    },
    {
      "cell_type": "markdown",
      "metadata": {
        "id": "ri3Bg5qfPRic"
      },
      "source": [
        "Data : <br>\n",
        "https://drive.google.com/file/d/1-OX6wn5gA-bJpjPNfSyaYQLz-A-AB_uj/view?usp=sharing"
      ]
    },
    {
      "cell_type": "code",
      "metadata": {
        "colab": {
          "base_uri": "https://localhost:8080/"
        },
        "id": "D6l_46CiKOBh",
        "outputId": "0990abd5-6c71-4f62-f8d1-a2df8d2e1f41"
      },
      "source": [
        "from google.colab import drive\n",
        "drive.mount('/content/drive')"
      ],
      "execution_count": null,
      "outputs": [
        {
          "output_type": "stream",
          "text": [
            "Mounted at /content/drive\n"
          ],
          "name": "stdout"
        }
      ]
    },
    {
      "cell_type": "code",
      "metadata": {
        "colab": {
          "base_uri": "https://localhost:8080/"
        },
        "id": "axI4UlmAKVRO",
        "outputId": "a349f1c2-6cce-4081-e3a5-7f34f81578dd"
      },
      "source": [
        "cd /content/drive/MyDrive/DeepLearning/flowers"
      ],
      "execution_count": null,
      "outputs": [
        {
          "output_type": "stream",
          "text": [
            "/content/drive/MyDrive/DeepLearning/flowers\n"
          ],
          "name": "stdout"
        }
      ]
    },
    {
      "cell_type": "code",
      "metadata": {
        "id": "6NpNS4CDKbx_"
      },
      "source": [
        "import os\n",
        "from tensorflow.keras import layers\n",
        "from tensorflow.keras import models\n",
        "from tensorflow import keras\n",
        "import numpy as np\n",
        "import cv2\n",
        "import matplotlib.pyplot as plt\n",
        "import pickle\n",
        "from pathlib import Path"
      ],
      "execution_count": null,
      "outputs": []
    },
    {
      "cell_type": "code",
      "metadata": {
        "id": "_qS8tKZGuYwz"
      },
      "source": [
        "categories = ['daisy', 'dandelion', 'rose', 'sunflower', 'tulip']"
      ],
      "execution_count": null,
      "outputs": []
    },
    {
      "cell_type": "code",
      "metadata": {
        "colab": {
          "base_uri": "https://localhost:8080/"
        },
        "id": "hPfHvDcvunre",
        "outputId": "faf03759-8384-4581-bcac-329a7e8d42f3"
      },
      "source": [
        "# Loading Data And Defining Features And Labels\n",
        "directory = Path(\"/content/drive/MyDrive/DeepLearning/flowers\")\n",
        "\n",
        "flowers = []\n",
        "features = []\n",
        "labels = []\n",
        "\n",
        "# Iterating Over Directory To Extract Sub Directories\n",
        "for dir in directory.iterdir():\n",
        "  flowers.append(dir.name)\n",
        "  print(dir.name)\n",
        "# Iterating Over Sub Directories To Extract Lables\n",
        "  for imgpath in dir.iterdir():\n",
        "    if imgpath.name.endswith(\"jpg\"):\n",
        "      labels.append(dir.name)\n",
        "      imgarr = cv2.imread(str(imgpath), cv2.IMREAD_GRAYSCALE)\n",
        "      imgarr = cv2.resize(imgarr, (150,150))\n",
        "      features.append(imgarr)"
      ],
      "execution_count": null,
      "outputs": [
        {
          "output_type": "stream",
          "text": [
            "daisy\n",
            "dandelion\n",
            "rose\n",
            "sunflower\n",
            "tulip\n"
          ],
          "name": "stdout"
        }
      ]
    },
    {
      "cell_type": "code",
      "metadata": {
        "colab": {
          "base_uri": "https://localhost:8080/",
          "height": 167
        },
        "id": "-I6fFR4inSGP",
        "outputId": "adff3b4c-38cd-4e0b-e6d5-dc6bfe33f143"
      },
      "source": [
        "from google.colab.patches import cv2_imshow\n",
        "cv2_imshow(features[3000])"
      ],
      "execution_count": null,
      "outputs": [
        {
          "output_type": "display_data",
          "data": {
            "image/png": "[encoded data removed]",
            "text/plain": [
              "<PIL.Image.Image image mode=L size=150x150 at 0x7F19BB63C6D0>"
            ]
          },
          "metadata": {
            "tags": []
          }
        }
      ]
    },
    {
      "cell_type": "code",
      "metadata": {
        "id": "Cr32ov5hpRnq"
      },
      "source": [
        "features = np.array(features, dtype=np.float32)"
      ],
      "execution_count": null,
      "outputs": []
    },
    {
      "cell_type": "code",
      "metadata": {
        "id": "sLp3dQA8vL1v"
      },
      "source": [
        "labels = np.array(labels)"
      ],
      "execution_count": null,
      "outputs": []
    },
    {
      "cell_type": "code",
      "metadata": {
        "colab": {
          "base_uri": "https://localhost:8080/"
        },
        "id": "oW1zdHj2vPjK",
        "outputId": "09d0e603-4262-4200-9521-0cb38af55bc7"
      },
      "source": [
        "features.shape"
      ],
      "execution_count": null,
      "outputs": [
        {
          "output_type": "execute_result",
          "data": {
            "text/plain": [
              "(4323, 150, 150)"
            ]
          },
          "metadata": {
            "tags": []
          },
          "execution_count": 86
        }
      ]
    },
    {
      "cell_type": "code",
      "metadata": {
        "colab": {
          "base_uri": "https://localhost:8080/"
        },
        "id": "vRBpA7SxvWRQ",
        "outputId": "05885a12-1648-4f62-a23b-5198f88dd3c5"
      },
      "source": [
        "labels.shape"
      ],
      "execution_count": null,
      "outputs": [
        {
          "output_type": "execute_result",
          "data": {
            "text/plain": [
              "(4323,)"
            ]
          },
          "metadata": {
            "tags": []
          },
          "execution_count": 87
        }
      ]
    },
    {
      "cell_type": "code",
      "metadata": {
        "id": "m4q8DBmcrkGY"
      },
      "source": [
        "features = features.reshape((4323, 150*150))\n",
        "features = features.astype('float32') / 255"
      ],
      "execution_count": null,
      "outputs": []
    },
    {
      "cell_type": "code",
      "metadata": {
        "colab": {
          "base_uri": "https://localhost:8080/"
        },
        "id": "aKuJMocGws9X",
        "outputId": "985157ab-b9a0-4900-9a71-451740886803"
      },
      "source": [
        "features[0]"
      ],
      "execution_count": null,
      "outputs": [
        {
          "output_type": "execute_result",
          "data": {
            "text/plain": [
              "array([0.53333336, 0.5647059 , 0.5764706 , ..., 0.5058824 , 0.5019608 ,\n",
              "       0.5019608 ], dtype=float32)"
            ]
          },
          "metadata": {
            "tags": []
          },
          "execution_count": 111
        }
      ]
    },
    {
      "cell_type": "code",
      "metadata": {
        "id": "9XeGhhNkxIde"
      },
      "source": [
        "from sklearn.preprocessing import LabelEncoder\n",
        "\n",
        "labelencoder = LabelEncoder()\n",
        "\n",
        "labels = labelencoder.fit_transform(labels)"
      ],
      "execution_count": null,
      "outputs": []
    },
    {
      "cell_type": "code",
      "metadata": {
        "id": "7YlLpvfxvYoh"
      },
      "source": [
        "from sklearn.model_selection import train_test_split\n",
        "(train_data, test_data, train_labels, test_labels) = train_test_split(features, labels, test_size=0.3)"
      ],
      "execution_count": null,
      "outputs": []
    },
    {
      "cell_type": "code",
      "metadata": {
        "colab": {
          "base_uri": "https://localhost:8080/"
        },
        "id": "x-FdzbH6vl3H",
        "outputId": "d93ffe38-798d-4a53-84c3-5c10d8e53cee"
      },
      "source": [
        "train_data.shape"
      ],
      "execution_count": null,
      "outputs": [
        {
          "output_type": "execute_result",
          "data": {
            "text/plain": [
              "(3026, 22500)"
            ]
          },
          "metadata": {
            "tags": []
          },
          "execution_count": 91
        }
      ]
    },
    {
      "cell_type": "code",
      "metadata": {
        "colab": {
          "base_uri": "https://localhost:8080/"
        },
        "id": "YOcP6io1voNu",
        "outputId": "3ac9fec0-56ed-47d1-fbbf-afecffa760b8"
      },
      "source": [
        "train_labels.shape"
      ],
      "execution_count": null,
      "outputs": [
        {
          "output_type": "execute_result",
          "data": {
            "text/plain": [
              "(3026,)"
            ]
          },
          "metadata": {
            "tags": []
          },
          "execution_count": 92
        }
      ]
    },
    {
      "cell_type": "code",
      "metadata": {
        "colab": {
          "base_uri": "https://localhost:8080/"
        },
        "id": "P8C1-3PUvqVF",
        "outputId": "2ae59496-a46c-4f3b-aad9-7cc1db348289"
      },
      "source": [
        "train_labels[0:5]"
      ],
      "execution_count": null,
      "outputs": [
        {
          "output_type": "execute_result",
          "data": {
            "text/plain": [
              "array([4, 3, 1, 1, 1])"
            ]
          },
          "metadata": {
            "tags": []
          },
          "execution_count": 93
        }
      ]
    },
    {
      "cell_type": "code",
      "metadata": {
        "colab": {
          "base_uri": "https://localhost:8080/"
        },
        "id": "7_hoMAAuv08K",
        "outputId": "54a899aa-6099-49a4-a7a4-1e03a487bd46"
      },
      "source": [
        "test_data.shape"
      ],
      "execution_count": null,
      "outputs": [
        {
          "output_type": "execute_result",
          "data": {
            "text/plain": [
              "(1297, 22500)"
            ]
          },
          "metadata": {
            "tags": []
          },
          "execution_count": 94
        }
      ]
    },
    {
      "cell_type": "code",
      "metadata": {
        "colab": {
          "base_uri": "https://localhost:8080/"
        },
        "id": "WDdhRka7wDoE",
        "outputId": "6350d379-5056-4965-cbd9-a3a597c7ab64"
      },
      "source": [
        "test_labels.shape"
      ],
      "execution_count": null,
      "outputs": [
        {
          "output_type": "execute_result",
          "data": {
            "text/plain": [
              "(1297,)"
            ]
          },
          "metadata": {
            "tags": []
          },
          "execution_count": 95
        }
      ]
    },
    {
      "cell_type": "code",
      "metadata": {
        "colab": {
          "base_uri": "https://localhost:8080/"
        },
        "id": "NViAzXhoogzR",
        "outputId": "5a06a56d-a634-4c8d-806a-ca847e98f90f"
      },
      "source": [
        "train_data.shape"
      ],
      "execution_count": null,
      "outputs": [
        {
          "output_type": "execute_result",
          "data": {
            "text/plain": [
              "(3026, 22500)"
            ]
          },
          "metadata": {
            "tags": []
          },
          "execution_count": 96
        }
      ]
    },
    {
      "cell_type": "code",
      "metadata": {
        "id": "70UokqWGwI7G"
      },
      "source": [
        "from tensorflow.keras.utils import to_categorical\n",
        "\n",
        "train_labels = to_categorical(train_labels)\n",
        "test_labels = to_categorical(test_labels)"
      ],
      "execution_count": null,
      "outputs": []
    },
    {
      "cell_type": "code",
      "metadata": {
        "id": "qRpdD4U1wRkS"
      },
      "source": [
        "model = models.Sequential()\n",
        "model.add(layers.Dense(512, activation='relu', input_shape=(train_data.shape[1],)))\n",
        "model.add(layers.Dense(5, activation='softmax'))"
      ],
      "execution_count": null,
      "outputs": []
    },
    {
      "cell_type": "code",
      "metadata": {
        "id": "tWWbvi90yn3l"
      },
      "source": [
        "model.compile(optimizer='adam', loss='categorical_crossentropy', metrics=['accuracy'])"
      ],
      "execution_count": null,
      "outputs": []
    },
    {
      "cell_type": "code",
      "metadata": {
        "id": "IS-BpH0Rywre",
        "colab": {
          "base_uri": "https://localhost:8080/"
        },
        "outputId": "748ca883-81c7-43c6-c8c0-ff1f8d192480"
      },
      "source": [
        "history = model.fit(train_data, train_labels, epochs=140, batch_size=32)"
      ],
      "execution_count": null,
      "outputs": [
        {
          "output_type": "stream",
          "text": [
            "Epoch 1/140\n",
            "95/95 [==============================] - 1s 6ms/step - loss: 11.9286 - accuracy: 0.2383\n",
            "Epoch 2/140\n",
            "95/95 [==============================] - 1s 5ms/step - loss: 3.4193 - accuracy: 0.2491\n",
            "Epoch 3/140\n",
            "95/95 [==============================] - 1s 5ms/step - loss: 2.1194 - accuracy: 0.3087\n",
            "Epoch 4/140\n",
            "95/95 [==============================] - 0s 5ms/step - loss: 1.7451 - accuracy: 0.3651\n",
            "Epoch 5/140\n",
            "95/95 [==============================] - 1s 5ms/step - loss: 1.5777 - accuracy: 0.3648\n",
            "Epoch 6/140\n",
            "95/95 [==============================] - 0s 5ms/step - loss: 1.6304 - accuracy: 0.3772\n",
            "Epoch 7/140\n",
            "95/95 [==============================] - 0s 5ms/step - loss: 1.4092 - accuracy: 0.4258\n",
            "Epoch 8/140\n",
            "95/95 [==============================] - 0s 5ms/step - loss: 1.4406 - accuracy: 0.4206\n",
            "Epoch 9/140\n",
            "95/95 [==============================] - 0s 5ms/step - loss: 1.2796 - accuracy: 0.4910\n",
            "Epoch 10/140\n",
            "95/95 [==============================] - 1s 5ms/step - loss: 1.2870 - accuracy: 0.4860\n",
            "Epoch 11/140\n",
            "95/95 [==============================] - 0s 5ms/step - loss: 1.2892 - accuracy: 0.4691\n",
            "Epoch 12/140\n",
            "95/95 [==============================] - 0s 5ms/step - loss: 1.3904 - accuracy: 0.4309\n",
            "Epoch 13/140\n",
            "95/95 [==============================] - 1s 5ms/step - loss: 1.3056 - accuracy: 0.4904\n",
            "Epoch 14/140\n",
            "95/95 [==============================] - 0s 5ms/step - loss: 1.2505 - accuracy: 0.5033\n",
            "Epoch 15/140\n",
            "95/95 [==============================] - 0s 5ms/step - loss: 1.2727 - accuracy: 0.5064\n",
            "Epoch 16/140\n",
            "95/95 [==============================] - 0s 5ms/step - loss: 1.1468 - accuracy: 0.5582\n",
            "Epoch 17/140\n",
            "95/95 [==============================] - 1s 5ms/step - loss: 1.3029 - accuracy: 0.4662\n",
            "Epoch 18/140\n",
            "95/95 [==============================] - 0s 5ms/step - loss: 1.2213 - accuracy: 0.5254\n",
            "Epoch 19/140\n",
            "95/95 [==============================] - 1s 5ms/step - loss: 1.2044 - accuracy: 0.5117\n",
            "Epoch 20/140\n",
            "95/95 [==============================] - 0s 5ms/step - loss: 1.1331 - accuracy: 0.5746\n",
            "Epoch 21/140\n",
            "95/95 [==============================] - 1s 5ms/step - loss: 1.1624 - accuracy: 0.5524\n",
            "Epoch 22/140\n",
            "95/95 [==============================] - 0s 5ms/step - loss: 1.0859 - accuracy: 0.6086\n",
            "Epoch 23/140\n",
            "95/95 [==============================] - 1s 5ms/step - loss: 1.0917 - accuracy: 0.5798\n",
            "Epoch 24/140\n",
            "95/95 [==============================] - 0s 5ms/step - loss: 1.0489 - accuracy: 0.6097\n",
            "Epoch 25/140\n",
            "95/95 [==============================] - 0s 5ms/step - loss: 1.0501 - accuracy: 0.6009\n",
            "Epoch 26/140\n",
            "95/95 [==============================] - 1s 5ms/step - loss: 1.2443 - accuracy: 0.5220\n",
            "Epoch 27/140\n",
            "95/95 [==============================] - 1s 5ms/step - loss: 1.1305 - accuracy: 0.5598\n",
            "Epoch 28/140\n",
            "95/95 [==============================] - 0s 5ms/step - loss: 1.0532 - accuracy: 0.6018\n",
            "Epoch 29/140\n",
            "95/95 [==============================] - 1s 5ms/step - loss: 0.9729 - accuracy: 0.6534\n",
            "Epoch 30/140\n",
            "95/95 [==============================] - 0s 5ms/step - loss: 0.9888 - accuracy: 0.6291\n",
            "Epoch 31/140\n",
            "95/95 [==============================] - 1s 5ms/step - loss: 0.9329 - accuracy: 0.6569\n",
            "Epoch 32/140\n",
            "95/95 [==============================] - 1s 5ms/step - loss: 0.9906 - accuracy: 0.6229\n",
            "Epoch 33/140\n",
            "95/95 [==============================] - 1s 5ms/step - loss: 0.9096 - accuracy: 0.6611\n",
            "Epoch 34/140\n",
            "95/95 [==============================] - 0s 5ms/step - loss: 0.9510 - accuracy: 0.6267\n",
            "Epoch 35/140\n",
            "95/95 [==============================] - 1s 5ms/step - loss: 0.9288 - accuracy: 0.6512\n",
            "Epoch 36/140\n",
            "95/95 [==============================] - 0s 5ms/step - loss: 0.8743 - accuracy: 0.6930\n",
            "Epoch 37/140\n",
            "95/95 [==============================] - 1s 5ms/step - loss: 0.8493 - accuracy: 0.6965\n",
            "Epoch 38/140\n",
            "95/95 [==============================] - 1s 5ms/step - loss: 0.8247 - accuracy: 0.7039\n",
            "Epoch 39/140\n",
            "95/95 [==============================] - 1s 5ms/step - loss: 0.7818 - accuracy: 0.7071\n",
            "Epoch 40/140\n",
            "95/95 [==============================] - 1s 5ms/step - loss: 0.8572 - accuracy: 0.6917\n",
            "Epoch 41/140\n",
            "95/95 [==============================] - 0s 5ms/step - loss: 0.7277 - accuracy: 0.7364\n",
            "Epoch 42/140\n",
            "95/95 [==============================] - 1s 5ms/step - loss: 0.6233 - accuracy: 0.7858\n",
            "Epoch 43/140\n",
            "95/95 [==============================] - 0s 5ms/step - loss: 0.8042 - accuracy: 0.7167\n",
            "Epoch 44/140\n",
            "95/95 [==============================] - 0s 5ms/step - loss: 0.7220 - accuracy: 0.7281\n",
            "Epoch 45/140\n",
            "95/95 [==============================] - 0s 5ms/step - loss: 0.7843 - accuracy: 0.7054\n",
            "Epoch 46/140\n",
            "95/95 [==============================] - 1s 5ms/step - loss: 0.7323 - accuracy: 0.7385\n",
            "Epoch 47/140\n",
            "95/95 [==============================] - 1s 5ms/step - loss: 0.6033 - accuracy: 0.7948\n",
            "Epoch 48/140\n",
            "95/95 [==============================] - 1s 5ms/step - loss: 0.6296 - accuracy: 0.7778\n",
            "Epoch 49/140\n",
            "95/95 [==============================] - 1s 5ms/step - loss: 0.6967 - accuracy: 0.7623\n",
            "Epoch 50/140\n",
            "95/95 [==============================] - 0s 5ms/step - loss: 0.5803 - accuracy: 0.7969\n",
            "Epoch 51/140\n",
            "95/95 [==============================] - 1s 5ms/step - loss: 0.5644 - accuracy: 0.8057\n",
            "Epoch 52/140\n",
            "95/95 [==============================] - 1s 5ms/step - loss: 0.5234 - accuracy: 0.8270\n",
            "Epoch 53/140\n",
            "95/95 [==============================] - 1s 5ms/step - loss: 0.4690 - accuracy: 0.8455\n",
            "Epoch 54/140\n",
            "95/95 [==============================] - 0s 5ms/step - loss: 0.5842 - accuracy: 0.7811\n",
            "Epoch 55/140\n",
            "95/95 [==============================] - 1s 5ms/step - loss: 0.4938 - accuracy: 0.8291\n",
            "Epoch 56/140\n",
            "95/95 [==============================] - 1s 5ms/step - loss: 0.3881 - accuracy: 0.8899\n",
            "Epoch 57/140\n",
            "95/95 [==============================] - 1s 5ms/step - loss: 0.4988 - accuracy: 0.8431\n",
            "Epoch 58/140\n",
            "95/95 [==============================] - 1s 5ms/step - loss: 0.4195 - accuracy: 0.8834\n",
            "Epoch 59/140\n",
            "95/95 [==============================] - 1s 5ms/step - loss: 0.4412 - accuracy: 0.8557\n",
            "Epoch 60/140\n",
            "95/95 [==============================] - 0s 5ms/step - loss: 0.3760 - accuracy: 0.8851\n",
            "Epoch 61/140\n",
            "95/95 [==============================] - 0s 5ms/step - loss: 0.4187 - accuracy: 0.8671\n",
            "Epoch 62/140\n",
            "95/95 [==============================] - 0s 5ms/step - loss: 0.3953 - accuracy: 0.8674\n",
            "Epoch 63/140\n",
            "95/95 [==============================] - 1s 5ms/step - loss: 0.3272 - accuracy: 0.9080\n",
            "Epoch 64/140\n",
            "95/95 [==============================] - 1s 5ms/step - loss: 0.5251 - accuracy: 0.8251\n",
            "Epoch 65/140\n",
            "95/95 [==============================] - 0s 5ms/step - loss: 0.4720 - accuracy: 0.8402\n",
            "Epoch 66/140\n",
            "95/95 [==============================] - 1s 5ms/step - loss: 0.4571 - accuracy: 0.8356\n",
            "Epoch 67/140\n",
            "95/95 [==============================] - 1s 5ms/step - loss: 0.3314 - accuracy: 0.8907\n",
            "Epoch 68/140\n",
            "95/95 [==============================] - 1s 5ms/step - loss: 0.2942 - accuracy: 0.9099\n",
            "Epoch 69/140\n",
            "95/95 [==============================] - 0s 5ms/step - loss: 0.4317 - accuracy: 0.8475\n",
            "Epoch 70/140\n",
            "95/95 [==============================] - 0s 5ms/step - loss: 0.4023 - accuracy: 0.8677\n",
            "Epoch 71/140\n",
            "95/95 [==============================] - 1s 6ms/step - loss: 0.3199 - accuracy: 0.9058\n",
            "Epoch 72/140\n",
            "95/95 [==============================] - 0s 5ms/step - loss: 0.2653 - accuracy: 0.9227\n",
            "Epoch 73/140\n",
            "95/95 [==============================] - 0s 5ms/step - loss: 0.3491 - accuracy: 0.8806\n",
            "Epoch 74/140\n",
            "95/95 [==============================] - 0s 5ms/step - loss: 0.2749 - accuracy: 0.9122\n",
            "Epoch 75/140\n",
            "95/95 [==============================] - 1s 5ms/step - loss: 0.3032 - accuracy: 0.8982\n",
            "Epoch 76/140\n",
            "95/95 [==============================] - 0s 5ms/step - loss: 0.2998 - accuracy: 0.9011\n",
            "Epoch 77/140\n",
            "95/95 [==============================] - 0s 5ms/step - loss: 0.2280 - accuracy: 0.9378\n",
            "Epoch 78/140\n",
            "95/95 [==============================] - 1s 5ms/step - loss: 0.3344 - accuracy: 0.8875\n",
            "Epoch 79/140\n",
            "95/95 [==============================] - 1s 5ms/step - loss: 0.3129 - accuracy: 0.9041\n",
            "Epoch 80/140\n",
            "95/95 [==============================] - 0s 5ms/step - loss: 0.2993 - accuracy: 0.9070\n",
            "Epoch 81/140\n",
            "95/95 [==============================] - 1s 5ms/step - loss: 0.1621 - accuracy: 0.9609\n",
            "Epoch 82/140\n",
            "95/95 [==============================] - 0s 5ms/step - loss: 0.2575 - accuracy: 0.9153\n",
            "Epoch 83/140\n",
            "95/95 [==============================] - 1s 5ms/step - loss: 0.2784 - accuracy: 0.8974\n",
            "Epoch 84/140\n",
            "95/95 [==============================] - 1s 5ms/step - loss: 0.1713 - accuracy: 0.9554\n",
            "Epoch 85/140\n",
            "95/95 [==============================] - 1s 5ms/step - loss: 0.2206 - accuracy: 0.9274\n",
            "Epoch 86/140\n",
            "95/95 [==============================] - 0s 5ms/step - loss: 0.2279 - accuracy: 0.9295\n",
            "Epoch 87/140\n",
            "95/95 [==============================] - 1s 5ms/step - loss: 0.3967 - accuracy: 0.8633\n",
            "Epoch 88/140\n",
            "95/95 [==============================] - 0s 5ms/step - loss: 0.1678 - accuracy: 0.9531\n",
            "Epoch 89/140\n",
            "95/95 [==============================] - 1s 5ms/step - loss: 0.2336 - accuracy: 0.9292\n",
            "Epoch 90/140\n",
            "95/95 [==============================] - 0s 5ms/step - loss: 0.2377 - accuracy: 0.9264\n",
            "Epoch 91/140\n",
            "95/95 [==============================] - 1s 5ms/step - loss: 0.1330 - accuracy: 0.9617\n",
            "Epoch 92/140\n",
            "95/95 [==============================] - 1s 5ms/step - loss: 0.3930 - accuracy: 0.8696\n",
            "Epoch 93/140\n",
            "95/95 [==============================] - 1s 6ms/step - loss: 0.3677 - accuracy: 0.8786\n",
            "Epoch 94/140\n",
            "95/95 [==============================] - 1s 5ms/step - loss: 0.1374 - accuracy: 0.9671\n",
            "Epoch 95/140\n",
            "95/95 [==============================] - 1s 5ms/step - loss: 0.1265 - accuracy: 0.9675\n",
            "Epoch 96/140\n",
            "95/95 [==============================] - 1s 5ms/step - loss: 0.1124 - accuracy: 0.9686\n",
            "Epoch 97/140\n",
            "95/95 [==============================] - 1s 5ms/step - loss: 0.0995 - accuracy: 0.9794\n",
            "Epoch 98/140\n",
            "95/95 [==============================] - 1s 5ms/step - loss: 0.0940 - accuracy: 0.9759\n",
            "Epoch 99/140\n",
            "95/95 [==============================] - 1s 5ms/step - loss: 0.1982 - accuracy: 0.9352\n",
            "Epoch 100/140\n",
            "95/95 [==============================] - 1s 5ms/step - loss: 0.1382 - accuracy: 0.9548\n",
            "Epoch 101/140\n",
            "95/95 [==============================] - 1s 5ms/step - loss: 0.1908 - accuracy: 0.9408\n",
            "Epoch 102/140\n",
            "95/95 [==============================] - 0s 5ms/step - loss: 0.4124 - accuracy: 0.8714\n",
            "Epoch 103/140\n",
            "95/95 [==============================] - 1s 5ms/step - loss: 0.2257 - accuracy: 0.9234\n",
            "Epoch 104/140\n",
            "95/95 [==============================] - 0s 5ms/step - loss: 0.2987 - accuracy: 0.9052\n",
            "Epoch 105/140\n",
            "95/95 [==============================] - 0s 5ms/step - loss: 0.4916 - accuracy: 0.8515\n",
            "Epoch 106/140\n",
            "95/95 [==============================] - 0s 5ms/step - loss: 0.1986 - accuracy: 0.9370\n",
            "Epoch 107/140\n",
            "95/95 [==============================] - 1s 5ms/step - loss: 0.1760 - accuracy: 0.9491\n",
            "Epoch 108/140\n",
            "95/95 [==============================] - 0s 5ms/step - loss: 0.1394 - accuracy: 0.9601\n",
            "Epoch 109/140\n",
            "95/95 [==============================] - 1s 5ms/step - loss: 0.1266 - accuracy: 0.9631\n",
            "Epoch 110/140\n",
            "95/95 [==============================] - 0s 5ms/step - loss: 0.1579 - accuracy: 0.9507\n",
            "Epoch 111/140\n",
            "95/95 [==============================] - 1s 5ms/step - loss: 0.1113 - accuracy: 0.9719\n",
            "Epoch 112/140\n",
            "95/95 [==============================] - 0s 5ms/step - loss: 0.1974 - accuracy: 0.9337\n",
            "Epoch 113/140\n",
            "95/95 [==============================] - 1s 5ms/step - loss: 0.0856 - accuracy: 0.9753\n",
            "Epoch 114/140\n",
            "95/95 [==============================] - 1s 5ms/step - loss: 0.3090 - accuracy: 0.9038\n",
            "Epoch 115/140\n",
            "95/95 [==============================] - 1s 5ms/step - loss: 0.4612 - accuracy: 0.8515\n",
            "Epoch 116/140\n",
            "95/95 [==============================] - 0s 5ms/step - loss: 0.2068 - accuracy: 0.9415\n",
            "Epoch 117/140\n",
            "95/95 [==============================] - 1s 5ms/step - loss: 0.2547 - accuracy: 0.9193\n",
            "Epoch 118/140\n",
            "95/95 [==============================] - 0s 5ms/step - loss: 0.1393 - accuracy: 0.9523\n",
            "Epoch 119/140\n",
            "95/95 [==============================] - 0s 5ms/step - loss: 0.1159 - accuracy: 0.9683\n",
            "Epoch 120/140\n",
            "95/95 [==============================] - 0s 5ms/step - loss: 0.1037 - accuracy: 0.9688\n",
            "Epoch 121/140\n",
            "95/95 [==============================] - 1s 5ms/step - loss: 0.0806 - accuracy: 0.9818\n",
            "Epoch 122/140\n",
            "95/95 [==============================] - 0s 5ms/step - loss: 0.0918 - accuracy: 0.9779\n",
            "Epoch 123/140\n",
            "95/95 [==============================] - 0s 5ms/step - loss: 0.1779 - accuracy: 0.9416\n",
            "Epoch 124/140\n",
            "95/95 [==============================] - 1s 5ms/step - loss: 0.0976 - accuracy: 0.9667\n",
            "Epoch 125/140\n",
            "95/95 [==============================] - 1s 5ms/step - loss: 0.6315 - accuracy: 0.8277\n",
            "Epoch 126/140\n",
            "95/95 [==============================] - 1s 5ms/step - loss: 0.2747 - accuracy: 0.9001\n",
            "Epoch 127/140\n",
            "95/95 [==============================] - 0s 5ms/step - loss: 0.3526 - accuracy: 0.8860\n",
            "Epoch 128/140\n",
            "95/95 [==============================] - 1s 5ms/step - loss: 0.1832 - accuracy: 0.9505\n",
            "Epoch 129/140\n",
            "95/95 [==============================] - 1s 5ms/step - loss: 0.4524 - accuracy: 0.8814\n",
            "Epoch 130/140\n",
            "95/95 [==============================] - 0s 5ms/step - loss: 0.4304 - accuracy: 0.8713\n",
            "Epoch 131/140\n",
            "95/95 [==============================] - 0s 5ms/step - loss: 0.2401 - accuracy: 0.9252\n",
            "Epoch 132/140\n",
            "95/95 [==============================] - 1s 5ms/step - loss: 0.1891 - accuracy: 0.9476\n",
            "Epoch 133/140\n",
            "95/95 [==============================] - 1s 5ms/step - loss: 0.1475 - accuracy: 0.9671\n",
            "Epoch 134/140\n",
            "95/95 [==============================] - 1s 5ms/step - loss: 0.1622 - accuracy: 0.9572\n",
            "Epoch 135/140\n",
            "95/95 [==============================] - 0s 5ms/step - loss: 0.1029 - accuracy: 0.9852\n",
            "Epoch 136/140\n",
            "95/95 [==============================] - 0s 5ms/step - loss: 0.1383 - accuracy: 0.9638\n",
            "Epoch 137/140\n",
            "95/95 [==============================] - 1s 5ms/step - loss: 0.0850 - accuracy: 0.9869\n",
            "Epoch 138/140\n",
            "95/95 [==============================] - 1s 5ms/step - loss: 0.1145 - accuracy: 0.9745\n",
            "Epoch 139/140\n",
            "95/95 [==============================] - 1s 5ms/step - loss: 0.1133 - accuracy: 0.9721\n",
            "Epoch 140/140\n",
            "95/95 [==============================] - 1s 5ms/step - loss: 0.1203 - accuracy: 0.9623\n"
          ],
          "name": "stdout"
        }
      ]
    },
    {
      "cell_type": "code",
      "metadata": {
        "id": "sex5z7jSy3ML",
        "colab": {
          "base_uri": "https://localhost:8080/"
        },
        "outputId": "4b73ccd7-8bc2-4fa8-a2fc-905d0ada2f40"
      },
      "source": [
        "model.evaluate(test_data, test_labels)"
      ],
      "execution_count": null,
      "outputs": [
        {
          "output_type": "stream",
          "text": [
            "41/41 [==============================] - 0s 3ms/step - loss: 3.8949 - accuracy: 0.2992\n"
          ],
          "name": "stdout"
        },
        {
          "output_type": "execute_result",
          "data": {
            "text/plain": [
              "[3.894895553588867, 0.2991518974304199]"
            ]
          },
          "metadata": {
            "tags": []
          },
          "execution_count": 119
        }
      ]
    }
  ]
}