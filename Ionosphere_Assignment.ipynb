{
  "nbformat": 4,
  "nbformat_minor": 0,
  "metadata": {
    "kernelspec": {
      "display_name": "Python 3",
      "language": "python",
      "name": "python3"
    },
    "language_info": {
      "codemirror_mode": {
        "name": "ipython",
        "version": 3
      },
      "file_extension": ".py",
      "mimetype": "text/x-python",
      "name": "python",
      "nbconvert_exporter": "python",
      "pygments_lexer": "ipython3",
      "version": "3.7.3"
    },
    "colab": {
      "name": "Ionosphere Assignment.ipynb",
      "provenance": [],
      "collapsed_sections": [],
      "include_colab_link": true
    }
  },
  "cells": [
    {
      "cell_type": "markdown",
      "metadata": {
        "id": "view-in-github",
        "colab_type": "text"
      },
      "source": [
        "<a href=\"https://colab.research.google.com/github/IkhlasAhmad1998/DeepLearning_Assignments/blob/main/Ionosphere_Assignment.ipynb\" target=\"_parent\"><img src=\"https://colab.research.google.com/assets/colab-badge.svg\" alt=\"Open In Colab\"/></a>"
      ]
    },
    {
      "cell_type": "markdown",
      "metadata": {
        "id": "pmfxRal2On69"
      },
      "source": [
        "# Assignment: Ionosphere Data Problem\n",
        "\n",
        "### Dataset Description: \n",
        "\n",
        "This radar data was collected by a system in Goose Bay, Labrador. This system consists of a phased array of 16 high-frequency antennas with a total transmitted power on the order of 6.4 kilowatts. See the paper for more details. The targets were free electrons in the ionosphere. \"Good\" radar returns are those showing evidence of some type of structure in the ionosphere. \"Bad\" returns are those that do not; their signals pass through the ionosphere.\n",
        "\n",
        "Received signals were processed using an autocorrelation function whose arguments are the time of a pulse and the pulse number. There were 17 pulse numbers for the Goose Bay system. Instances in this databse are described by 2 attributes per pulse number, corresponding to the complex values returned by the function resulting from the complex electromagnetic signal.\n",
        "\n",
        "### Attribute Information:\n",
        "\n",
        "- All 34 are continuous\n",
        "- The 35th attribute is either \"good\" or \"bad\" according to the definition summarized above. This is a binary classification task.\n",
        "\n",
        " <br><br>\n",
        "\n",
        "<table border=\"1\"  cellpadding=\"6\">\n",
        "\t<tbody>\n",
        "        <tr>\n",
        "\t\t<td bgcolor=\"#DDEEFF\"><p class=\"normal\"><b>Data Set Characteristics:&nbsp;&nbsp;</b></p></td>\n",
        "\t\t<td><p class=\"normal\">Multivariate</p></td>\n",
        "\t\t<td bgcolor=\"#DDEEFF\"><p class=\"normal\"><b>Number of Instances:</b></p></td>\n",
        "\t\t<td><p class=\"normal\">351</p></td>\n",
        "\t\t<td bgcolor=\"#DDEEFF\"><p class=\"normal\"><b>Area:</b></p></td>\n",
        "\t\t<td><p class=\"normal\">Physical</p></td>\n",
        "        </tr>\n",
        "     </tbody>\n",
        "    </table>\n",
        "<table border=\"1\" cellpadding=\"6\">\n",
        "    <tbody>\n",
        "        <tr>\n",
        "            <td bgcolor=\"#DDEEFF\"><p class=\"normal\"><b>Attribute Characteristics:</b></p></td>\n",
        "            <td><p class=\"normal\">Integer,Real</p></td>\n",
        "            <td bgcolor=\"#DDEEFF\"><p class=\"normal\"><b>Number of Attributes:</b></p></td>\n",
        "            <td><p class=\"normal\">34</p></td>\n",
        "            <td bgcolor=\"#DDEEFF\"><p class=\"normal\"><b>Date Donated</b></p></td>\n",
        "            <td><p class=\"normal\">N/A</p></td>\n",
        "        </tr>\n",
        "     </tbody>\n",
        "    </table>\n",
        "<table border=\"1\" cellpadding=\"6\">\t\n",
        "    <tbody>\n",
        "    <tr>\n",
        "\t\t<td bgcolor=\"#DDEEFF\"><p class=\"normal\"><b>Associated Tasks:</b></p></td>\n",
        "\t\t<td><p class=\"normal\">Classification</p></td>\n",
        "\t\t<td bgcolor=\"#DDEEFF\"><p class=\"normal\"><b>Missing Values?</b></p></td>\n",
        "\t\t<td><p class=\"normal\">N/A</p></td>\n",
        "\t\t<td bgcolor=\"#DDEEFF\"><p class=\"normal\"><b>Number of Web Hits:</b></p></td>\n",
        "\t\t<td><p class=\"normal\">N/A</p></td>\n",
        "\t</tr>\n",
        "    </tbody>\n",
        "    </table>"
      ]
    },
    {
      "cell_type": "markdown",
      "metadata": {
        "id": "BQ_CjeCvOn7C"
      },
      "source": [
        "### WORKFLOW :\n",
        "- Load Data\n",
        "- Check Missing Values ( If Exist ; Fill each record with mean of its feature ) or any usless column.\n",
        "- Shuffle the data if needed.\n",
        "- Standardized the Input Variables. **Hint**: Centeralized the data\n",
        "- Split into 60 and 40 ratio.\n",
        "- Encode labels.\n",
        "- Model : 1 hidden layers including 16 unit.\n",
        "- Compilation Step (Note : Its a Binary problem , select loss , metrics according to it)\n",
        "- Train the Model with Epochs (100).\n",
        "- If the model gets overfit tune your model by changing the units , No. of layers , epochs , add dropout layer or add Regularizer according to the need .\n",
        "- Prediction should be > **92%**\n",
        "- Evaluation Step\n",
        "- Prediction\n"
      ]
    },
    {
      "cell_type": "markdown",
      "metadata": {
        "id": "lL18Le01On7C"
      },
      "source": [
        "# Load Data:\n",
        "[Click Here to Download DataSet](https://github.com/ramsha275/ML_Datasets/blob/main/ionosphere_data.csv)"
      ]
    },
    {
      "cell_type": "code",
      "metadata": {
        "id": "2Jz9SJaoOn7D"
      },
      "source": [
        "import numpy as np\n",
        "import pandas as pd"
      ],
      "execution_count": 427,
      "outputs": []
    },
    {
      "cell_type": "code",
      "metadata": {
        "id": "kqPgRC0qOuD6"
      },
      "source": [
        "data = pd.read_csv('https://raw.githubusercontent.com/ramsha275/ML_Datasets/main/ionosphere_data.csv')"
      ],
      "execution_count": 428,
      "outputs": []
    },
    {
      "cell_type": "code",
      "metadata": {
        "colab": {
          "base_uri": "https://localhost:8080/",
          "height": 215
        },
        "id": "X_10hgxQOxj5",
        "outputId": "1325590f-7495-4880-dbc9-1d166b05516b"
      },
      "source": [
        "np.random.seed(1234)\n",
        "data.head()"
      ],
      "execution_count": 429,
      "outputs": [
        {
          "output_type": "execute_result",
          "data": {
            "text/html": [
              "<div>\n",
              "<style scoped>\n",
              "    .dataframe tbody tr th:only-of-type {\n",
              "        vertical-align: middle;\n",
              "    }\n",
              "\n",
              "    .dataframe tbody tr th {\n",
              "        vertical-align: top;\n",
              "    }\n",
              "\n",
              "    .dataframe thead th {\n",
              "        text-align: right;\n",
              "    }\n",
              "</style>\n",
              "<table border=\"1\" class=\"dataframe\">\n",
              "  <thead>\n",
              "    <tr style=\"text-align: right;\">\n",
              "      <th></th>\n",
              "      <th>feature1</th>\n",
              "      <th>feature2</th>\n",
              "      <th>feature3</th>\n",
              "      <th>feature4</th>\n",
              "      <th>feature5</th>\n",
              "      <th>feature6</th>\n",
              "      <th>feature7</th>\n",
              "      <th>feature8</th>\n",
              "      <th>feature9</th>\n",
              "      <th>feature10</th>\n",
              "      <th>feature11</th>\n",
              "      <th>feature12</th>\n",
              "      <th>feature13</th>\n",
              "      <th>feature14</th>\n",
              "      <th>feature15</th>\n",
              "      <th>feature16</th>\n",
              "      <th>feature17</th>\n",
              "      <th>feature18</th>\n",
              "      <th>feature19</th>\n",
              "      <th>feature20</th>\n",
              "      <th>feature21</th>\n",
              "      <th>feature22</th>\n",
              "      <th>feature23</th>\n",
              "      <th>feature24</th>\n",
              "      <th>feature25</th>\n",
              "      <th>feature26</th>\n",
              "      <th>feature27</th>\n",
              "      <th>feature28</th>\n",
              "      <th>feature29</th>\n",
              "      <th>feature30</th>\n",
              "      <th>feature31</th>\n",
              "      <th>feature32</th>\n",
              "      <th>feature33</th>\n",
              "      <th>feature34</th>\n",
              "      <th>label</th>\n",
              "    </tr>\n",
              "  </thead>\n",
              "  <tbody>\n",
              "    <tr>\n",
              "      <th>0</th>\n",
              "      <td>1</td>\n",
              "      <td>0</td>\n",
              "      <td>0.99539</td>\n",
              "      <td>-0.05889</td>\n",
              "      <td>0.85243</td>\n",
              "      <td>0.02306</td>\n",
              "      <td>0.83398</td>\n",
              "      <td>-0.37708</td>\n",
              "      <td>1.00000</td>\n",
              "      <td>0.03760</td>\n",
              "      <td>0.85243</td>\n",
              "      <td>-0.17755</td>\n",
              "      <td>0.59755</td>\n",
              "      <td>-0.44945</td>\n",
              "      <td>0.60536</td>\n",
              "      <td>-0.38223</td>\n",
              "      <td>0.84356</td>\n",
              "      <td>-0.38542</td>\n",
              "      <td>0.58212</td>\n",
              "      <td>-0.32192</td>\n",
              "      <td>0.56971</td>\n",
              "      <td>-0.29674</td>\n",
              "      <td>0.36946</td>\n",
              "      <td>-0.47357</td>\n",
              "      <td>0.56811</td>\n",
              "      <td>-0.51171</td>\n",
              "      <td>0.41078</td>\n",
              "      <td>-0.46168</td>\n",
              "      <td>0.21266</td>\n",
              "      <td>-0.34090</td>\n",
              "      <td>0.42267</td>\n",
              "      <td>-0.54487</td>\n",
              "      <td>0.18641</td>\n",
              "      <td>-0.45300</td>\n",
              "      <td>g</td>\n",
              "    </tr>\n",
              "    <tr>\n",
              "      <th>1</th>\n",
              "      <td>1</td>\n",
              "      <td>0</td>\n",
              "      <td>1.00000</td>\n",
              "      <td>-0.18829</td>\n",
              "      <td>0.93035</td>\n",
              "      <td>-0.36156</td>\n",
              "      <td>-0.10868</td>\n",
              "      <td>-0.93597</td>\n",
              "      <td>1.00000</td>\n",
              "      <td>-0.04549</td>\n",
              "      <td>0.50874</td>\n",
              "      <td>-0.67743</td>\n",
              "      <td>0.34432</td>\n",
              "      <td>-0.69707</td>\n",
              "      <td>-0.51685</td>\n",
              "      <td>-0.97515</td>\n",
              "      <td>0.05499</td>\n",
              "      <td>-0.62237</td>\n",
              "      <td>0.33109</td>\n",
              "      <td>-1.00000</td>\n",
              "      <td>-0.13151</td>\n",
              "      <td>-0.45300</td>\n",
              "      <td>-0.18056</td>\n",
              "      <td>-0.35734</td>\n",
              "      <td>-0.20332</td>\n",
              "      <td>-0.26569</td>\n",
              "      <td>-0.20468</td>\n",
              "      <td>-0.18401</td>\n",
              "      <td>-0.19040</td>\n",
              "      <td>-0.11593</td>\n",
              "      <td>-0.16626</td>\n",
              "      <td>-0.06288</td>\n",
              "      <td>-0.13738</td>\n",
              "      <td>-0.02447</td>\n",
              "      <td>b</td>\n",
              "    </tr>\n",
              "    <tr>\n",
              "      <th>2</th>\n",
              "      <td>1</td>\n",
              "      <td>0</td>\n",
              "      <td>1.00000</td>\n",
              "      <td>-0.03365</td>\n",
              "      <td>1.00000</td>\n",
              "      <td>0.00485</td>\n",
              "      <td>1.00000</td>\n",
              "      <td>-0.12062</td>\n",
              "      <td>0.88965</td>\n",
              "      <td>0.01198</td>\n",
              "      <td>0.73082</td>\n",
              "      <td>0.05346</td>\n",
              "      <td>0.85443</td>\n",
              "      <td>0.00827</td>\n",
              "      <td>0.54591</td>\n",
              "      <td>0.00299</td>\n",
              "      <td>0.83775</td>\n",
              "      <td>-0.13644</td>\n",
              "      <td>0.75535</td>\n",
              "      <td>-0.08540</td>\n",
              "      <td>0.70887</td>\n",
              "      <td>-0.27502</td>\n",
              "      <td>0.43385</td>\n",
              "      <td>-0.12062</td>\n",
              "      <td>0.57528</td>\n",
              "      <td>-0.40220</td>\n",
              "      <td>0.58984</td>\n",
              "      <td>-0.22145</td>\n",
              "      <td>0.43100</td>\n",
              "      <td>-0.17365</td>\n",
              "      <td>0.60436</td>\n",
              "      <td>-0.24180</td>\n",
              "      <td>0.56045</td>\n",
              "      <td>-0.38238</td>\n",
              "      <td>g</td>\n",
              "    </tr>\n",
              "    <tr>\n",
              "      <th>3</th>\n",
              "      <td>1</td>\n",
              "      <td>0</td>\n",
              "      <td>1.00000</td>\n",
              "      <td>-0.45161</td>\n",
              "      <td>1.00000</td>\n",
              "      <td>1.00000</td>\n",
              "      <td>0.71216</td>\n",
              "      <td>-1.00000</td>\n",
              "      <td>0.00000</td>\n",
              "      <td>0.00000</td>\n",
              "      <td>0.00000</td>\n",
              "      <td>0.00000</td>\n",
              "      <td>0.00000</td>\n",
              "      <td>0.00000</td>\n",
              "      <td>-1.00000</td>\n",
              "      <td>0.14516</td>\n",
              "      <td>0.54094</td>\n",
              "      <td>-0.39330</td>\n",
              "      <td>-1.00000</td>\n",
              "      <td>-0.54467</td>\n",
              "      <td>-0.69975</td>\n",
              "      <td>1.00000</td>\n",
              "      <td>0.00000</td>\n",
              "      <td>0.00000</td>\n",
              "      <td>1.00000</td>\n",
              "      <td>0.90695</td>\n",
              "      <td>0.51613</td>\n",
              "      <td>1.00000</td>\n",
              "      <td>1.00000</td>\n",
              "      <td>-0.20099</td>\n",
              "      <td>0.25682</td>\n",
              "      <td>1.00000</td>\n",
              "      <td>-0.32382</td>\n",
              "      <td>1.00000</td>\n",
              "      <td>b</td>\n",
              "    </tr>\n",
              "    <tr>\n",
              "      <th>4</th>\n",
              "      <td>1</td>\n",
              "      <td>0</td>\n",
              "      <td>1.00000</td>\n",
              "      <td>-0.02401</td>\n",
              "      <td>0.94140</td>\n",
              "      <td>0.06531</td>\n",
              "      <td>0.92106</td>\n",
              "      <td>-0.23255</td>\n",
              "      <td>0.77152</td>\n",
              "      <td>-0.16399</td>\n",
              "      <td>0.52798</td>\n",
              "      <td>-0.20275</td>\n",
              "      <td>0.56409</td>\n",
              "      <td>-0.00712</td>\n",
              "      <td>0.34395</td>\n",
              "      <td>-0.27457</td>\n",
              "      <td>0.52940</td>\n",
              "      <td>-0.21780</td>\n",
              "      <td>0.45107</td>\n",
              "      <td>-0.17813</td>\n",
              "      <td>0.05982</td>\n",
              "      <td>-0.35575</td>\n",
              "      <td>0.02309</td>\n",
              "      <td>-0.52879</td>\n",
              "      <td>0.03286</td>\n",
              "      <td>-0.65158</td>\n",
              "      <td>0.13290</td>\n",
              "      <td>-0.53206</td>\n",
              "      <td>0.02431</td>\n",
              "      <td>-0.62197</td>\n",
              "      <td>-0.05707</td>\n",
              "      <td>-0.59573</td>\n",
              "      <td>-0.04608</td>\n",
              "      <td>-0.65697</td>\n",
              "      <td>g</td>\n",
              "    </tr>\n",
              "  </tbody>\n",
              "</table>\n",
              "</div>"
            ],
            "text/plain": [
              "   feature1  feature2  feature3  ...  feature33  feature34  label\n",
              "0         1         0   0.99539  ...    0.18641   -0.45300      g\n",
              "1         1         0   1.00000  ...   -0.13738   -0.02447      b\n",
              "2         1         0   1.00000  ...    0.56045   -0.38238      g\n",
              "3         1         0   1.00000  ...   -0.32382    1.00000      b\n",
              "4         1         0   1.00000  ...   -0.04608   -0.65697      g\n",
              "\n",
              "[5 rows x 35 columns]"
            ]
          },
          "metadata": {
            "tags": []
          },
          "execution_count": 429
        }
      ]
    },
    {
      "cell_type": "code",
      "metadata": {
        "id": "jTe_eksKPOLp"
      },
      "source": [
        "data.drop('feature2', axis=1, inplace=True)"
      ],
      "execution_count": 430,
      "outputs": []
    },
    {
      "cell_type": "code",
      "metadata": {
        "colab": {
          "base_uri": "https://localhost:8080/"
        },
        "id": "K-OXiERNPdPo",
        "outputId": "1b08fcef-b85b-429e-a77b-b48654919119"
      },
      "source": [
        "data.isnull().any()"
      ],
      "execution_count": 431,
      "outputs": [
        {
          "output_type": "execute_result",
          "data": {
            "text/plain": [
              "feature1     False\n",
              "feature3     False\n",
              "feature4     False\n",
              "feature5     False\n",
              "feature6     False\n",
              "feature7     False\n",
              "feature8     False\n",
              "feature9     False\n",
              "feature10    False\n",
              "feature11    False\n",
              "feature12    False\n",
              "feature13    False\n",
              "feature14    False\n",
              "feature15    False\n",
              "feature16    False\n",
              "feature17    False\n",
              "feature18    False\n",
              "feature19    False\n",
              "feature20    False\n",
              "feature21    False\n",
              "feature22    False\n",
              "feature23    False\n",
              "feature24    False\n",
              "feature25    False\n",
              "feature26    False\n",
              "feature27    False\n",
              "feature28    False\n",
              "feature29    False\n",
              "feature30    False\n",
              "feature31    False\n",
              "feature32    False\n",
              "feature33    False\n",
              "feature34    False\n",
              "label        False\n",
              "dtype: bool"
            ]
          },
          "metadata": {
            "tags": []
          },
          "execution_count": 431
        }
      ]
    },
    {
      "cell_type": "code",
      "metadata": {
        "colab": {
          "base_uri": "https://localhost:8080/"
        },
        "id": "sC8WP2imPs9P",
        "outputId": "66b99441-b934-40e2-ecec-cafd265885db"
      },
      "source": [
        "data.label"
      ],
      "execution_count": 432,
      "outputs": [
        {
          "output_type": "execute_result",
          "data": {
            "text/plain": [
              "0      g\n",
              "1      b\n",
              "2      g\n",
              "3      b\n",
              "4      g\n",
              "      ..\n",
              "346    g\n",
              "347    g\n",
              "348    g\n",
              "349    g\n",
              "350    g\n",
              "Name: label, Length: 351, dtype: object"
            ]
          },
          "metadata": {
            "tags": []
          },
          "execution_count": 432
        }
      ]
    },
    {
      "cell_type": "code",
      "metadata": {
        "colab": {
          "base_uri": "https://localhost:8080/"
        },
        "id": "1_KuwJzYRjnY",
        "outputId": "f53efc16-88dc-47bd-81cc-defd3673b0f8"
      },
      "source": [
        "data.info()"
      ],
      "execution_count": 433,
      "outputs": [
        {
          "output_type": "stream",
          "text": [
            "<class 'pandas.core.frame.DataFrame'>\n",
            "RangeIndex: 351 entries, 0 to 350\n",
            "Data columns (total 34 columns):\n",
            " #   Column     Non-Null Count  Dtype  \n",
            "---  ------     --------------  -----  \n",
            " 0   feature1   351 non-null    int64  \n",
            " 1   feature3   351 non-null    float64\n",
            " 2   feature4   351 non-null    float64\n",
            " 3   feature5   351 non-null    float64\n",
            " 4   feature6   351 non-null    float64\n",
            " 5   feature7   351 non-null    float64\n",
            " 6   feature8   351 non-null    float64\n",
            " 7   feature9   351 non-null    float64\n",
            " 8   feature10  351 non-null    float64\n",
            " 9   feature11  351 non-null    float64\n",
            " 10  feature12  351 non-null    float64\n",
            " 11  feature13  351 non-null    float64\n",
            " 12  feature14  351 non-null    float64\n",
            " 13  feature15  351 non-null    float64\n",
            " 14  feature16  351 non-null    float64\n",
            " 15  feature17  351 non-null    float64\n",
            " 16  feature18  351 non-null    float64\n",
            " 17  feature19  351 non-null    float64\n",
            " 18  feature20  351 non-null    float64\n",
            " 19  feature21  351 non-null    float64\n",
            " 20  feature22  351 non-null    float64\n",
            " 21  feature23  351 non-null    float64\n",
            " 22  feature24  351 non-null    float64\n",
            " 23  feature25  351 non-null    float64\n",
            " 24  feature26  351 non-null    float64\n",
            " 25  feature27  351 non-null    float64\n",
            " 26  feature28  351 non-null    float64\n",
            " 27  feature29  351 non-null    float64\n",
            " 28  feature30  351 non-null    float64\n",
            " 29  feature31  351 non-null    float64\n",
            " 30  feature32  351 non-null    float64\n",
            " 31  feature33  351 non-null    float64\n",
            " 32  feature34  351 non-null    float64\n",
            " 33  label      351 non-null    object \n",
            "dtypes: float64(32), int64(1), object(1)\n",
            "memory usage: 93.4+ KB\n"
          ],
          "name": "stdout"
        }
      ]
    },
    {
      "cell_type": "code",
      "metadata": {
        "id": "JKZbI5ndSOq2"
      },
      "source": [
        "labels = data.iloc[:,-1]\n",
        "data.drop('label', axis=1, inplace=True)"
      ],
      "execution_count": 434,
      "outputs": []
    },
    {
      "cell_type": "code",
      "metadata": {
        "id": "jsgHxHIUuWrb"
      },
      "source": [
        "from sklearn.preprocessing import LabelEncoder\n",
        "labelencoder = LabelEncoder()\n",
        "labels = labelencoder.fit_transform(labels)"
      ],
      "execution_count": 435,
      "outputs": []
    },
    {
      "cell_type": "code",
      "metadata": {
        "id": "2CVg1SCyT-Ko"
      },
      "source": [
        "from sklearn.model_selection import train_test_split\n",
        "\n",
        "train_data, test_data, train_labels, test_labels = train_test_split(data, labels, test_size=0.4, random_state=42)"
      ],
      "execution_count": 436,
      "outputs": []
    },
    {
      "cell_type": "code",
      "metadata": {
        "id": "_4w1T-K4WO7f"
      },
      "source": [
        "mean = train_data.mean(axis=0)\n",
        "std = train_data.std(axis=0)\n",
        "\n",
        "train_data = (train_data-mean) / std\n",
        "test_data = (test_data-mean) / std"
      ],
      "execution_count": 437,
      "outputs": []
    },
    {
      "cell_type": "code",
      "metadata": {
        "id": "eYg8a_-eVRce"
      },
      "source": [
        "# Making Base Model\n",
        "from tensorflow.keras import models\n",
        "from tensorflow.keras import layers\n",
        "\n",
        "\n",
        "model = models.Sequential()\n",
        "model.add(layers.Dense(16, activation='relu', input_shape = (train_data.shape[1],)))\n",
        "model.add(layers.Dropout(0.2))\n",
        "# model.add(layers.Dense(12, activation='relu'))\n",
        "# model.add(layers.Dropout(0.2))\n",
        "model.add(layers.Dense(10, activation = 'relu'))\n",
        "model.add(layers.Dense(8, activation='relu'))\n",
        "model.add(layers.Dropout(0.2))\n",
        "model.add(layers.Dense(6, activation='relu'))\n",
        "model.add(layers.Dense(1, activation='sigmoid'))"
      ],
      "execution_count": 438,
      "outputs": []
    },
    {
      "cell_type": "code",
      "metadata": {
        "colab": {
          "base_uri": "https://localhost:8080/"
        },
        "id": "5zSlpgdbW9SA",
        "outputId": "3db6b154-5708-4286-f083-ba2fc4dc513d"
      },
      "source": [
        "model.compile(optimizer = 'adam', loss = 'binary_crossentropy', metrics = ['accuracy'])\n",
        "model.summary()"
      ],
      "execution_count": 439,
      "outputs": [
        {
          "output_type": "stream",
          "text": [
            "Model: \"sequential_46\"\n",
            "_________________________________________________________________\n",
            "Layer (type)                 Output Shape              Param #   \n",
            "=================================================================\n",
            "dense_247 (Dense)            (None, 16)                544       \n",
            "_________________________________________________________________\n",
            "dropout_113 (Dropout)        (None, 16)                0         \n",
            "_________________________________________________________________\n",
            "dense_248 (Dense)            (None, 10)                170       \n",
            "_________________________________________________________________\n",
            "dense_249 (Dense)            (None, 8)                 88        \n",
            "_________________________________________________________________\n",
            "dropout_114 (Dropout)        (None, 8)                 0         \n",
            "_________________________________________________________________\n",
            "dense_250 (Dense)            (None, 6)                 54        \n",
            "_________________________________________________________________\n",
            "dense_251 (Dense)            (None, 1)                 7         \n",
            "=================================================================\n",
            "Total params: 863\n",
            "Trainable params: 863\n",
            "Non-trainable params: 0\n",
            "_________________________________________________________________\n"
          ],
          "name": "stdout"
        }
      ]
    },
    {
      "cell_type": "code",
      "metadata": {
        "colab": {
          "base_uri": "https://localhost:8080/"
        },
        "id": "ei53v-MWOqBX",
        "outputId": "70e3b54a-ca33-4614-efa2-c2b1ae73a33c"
      },
      "source": [
        "epochs = 40\n",
        "history = model.fit(train_data, train_labels, epochs = epochs, batch_size =8, validation_split=0.1)"
      ],
      "execution_count": 440,
      "outputs": [
        {
          "output_type": "stream",
          "text": [
            "Epoch 1/40\n",
            "24/24 [==============================] - 1s 12ms/step - loss: 0.7364 - accuracy: 0.6225 - val_loss: 0.6949 - val_accuracy: 0.6667\n",
            "Epoch 2/40\n",
            "24/24 [==============================] - 0s 3ms/step - loss: 0.6768 - accuracy: 0.6533 - val_loss: 0.6716 - val_accuracy: 0.6667\n",
            "Epoch 3/40\n",
            "24/24 [==============================] - 0s 3ms/step - loss: 0.6467 - accuracy: 0.6922 - val_loss: 0.6434 - val_accuracy: 0.6667\n",
            "Epoch 4/40\n",
            "24/24 [==============================] - 0s 3ms/step - loss: 0.6325 - accuracy: 0.6333 - val_loss: 0.6144 - val_accuracy: 0.6667\n",
            "Epoch 5/40\n",
            "24/24 [==============================] - 0s 3ms/step - loss: 0.5911 - accuracy: 0.6693 - val_loss: 0.5813 - val_accuracy: 0.6667\n",
            "Epoch 6/40\n",
            "24/24 [==============================] - 0s 3ms/step - loss: 0.5525 - accuracy: 0.7107 - val_loss: 0.5570 - val_accuracy: 0.6667\n",
            "Epoch 7/40\n",
            "24/24 [==============================] - 0s 3ms/step - loss: 0.5444 - accuracy: 0.7034 - val_loss: 0.5400 - val_accuracy: 0.6667\n",
            "Epoch 8/40\n",
            "24/24 [==============================] - 0s 3ms/step - loss: 0.6258 - accuracy: 0.6092 - val_loss: 0.5365 - val_accuracy: 0.7143\n",
            "Epoch 9/40\n",
            "24/24 [==============================] - 0s 3ms/step - loss: 0.5637 - accuracy: 0.6805 - val_loss: 0.5394 - val_accuracy: 0.7143\n",
            "Epoch 10/40\n",
            "24/24 [==============================] - 0s 3ms/step - loss: 0.5164 - accuracy: 0.6788 - val_loss: 0.5391 - val_accuracy: 0.6667\n",
            "Epoch 11/40\n",
            "24/24 [==============================] - 0s 3ms/step - loss: 0.5068 - accuracy: 0.7346 - val_loss: 0.5188 - val_accuracy: 0.7143\n",
            "Epoch 12/40\n",
            "24/24 [==============================] - 0s 3ms/step - loss: 0.4731 - accuracy: 0.7299 - val_loss: 0.4978 - val_accuracy: 0.8095\n",
            "Epoch 13/40\n",
            "24/24 [==============================] - 0s 3ms/step - loss: 0.4437 - accuracy: 0.8181 - val_loss: 0.4791 - val_accuracy: 0.8095\n",
            "Epoch 14/40\n",
            "24/24 [==============================] - 0s 3ms/step - loss: 0.3765 - accuracy: 0.8591 - val_loss: 0.4349 - val_accuracy: 0.8095\n",
            "Epoch 15/40\n",
            "24/24 [==============================] - 0s 3ms/step - loss: 0.3527 - accuracy: 0.8743 - val_loss: 0.4245 - val_accuracy: 0.8095\n",
            "Epoch 16/40\n",
            "24/24 [==============================] - 0s 3ms/step - loss: 0.2902 - accuracy: 0.8806 - val_loss: 0.4565 - val_accuracy: 0.8095\n",
            "Epoch 17/40\n",
            "24/24 [==============================] - 0s 3ms/step - loss: 0.3250 - accuracy: 0.8591 - val_loss: 0.4340 - val_accuracy: 0.8095\n",
            "Epoch 18/40\n",
            "24/24 [==============================] - 0s 3ms/step - loss: 0.2610 - accuracy: 0.8758 - val_loss: 0.3431 - val_accuracy: 0.8095\n",
            "Epoch 19/40\n",
            "24/24 [==============================] - 0s 3ms/step - loss: 0.2744 - accuracy: 0.9134 - val_loss: 0.3380 - val_accuracy: 0.8095\n",
            "Epoch 20/40\n",
            "24/24 [==============================] - 0s 3ms/step - loss: 0.2759 - accuracy: 0.8989 - val_loss: 0.3293 - val_accuracy: 0.8571\n",
            "Epoch 21/40\n",
            "24/24 [==============================] - 0s 3ms/step - loss: 0.3130 - accuracy: 0.8704 - val_loss: 0.3196 - val_accuracy: 0.8571\n",
            "Epoch 22/40\n",
            "24/24 [==============================] - 0s 3ms/step - loss: 0.2131 - accuracy: 0.9162 - val_loss: 0.3352 - val_accuracy: 0.8571\n",
            "Epoch 23/40\n",
            "24/24 [==============================] - 0s 3ms/step - loss: 0.2641 - accuracy: 0.8749 - val_loss: 0.3420 - val_accuracy: 0.8571\n",
            "Epoch 24/40\n",
            "24/24 [==============================] - 0s 3ms/step - loss: 0.2266 - accuracy: 0.8889 - val_loss: 0.3153 - val_accuracy: 0.8571\n",
            "Epoch 25/40\n",
            "24/24 [==============================] - 0s 3ms/step - loss: 0.1803 - accuracy: 0.9419 - val_loss: 0.2599 - val_accuracy: 0.8571\n",
            "Epoch 26/40\n",
            "24/24 [==============================] - 0s 3ms/step - loss: 0.1906 - accuracy: 0.9234 - val_loss: 0.2273 - val_accuracy: 0.9048\n",
            "Epoch 27/40\n",
            "24/24 [==============================] - 0s 3ms/step - loss: 0.1962 - accuracy: 0.9386 - val_loss: 0.2221 - val_accuracy: 0.9048\n",
            "Epoch 28/40\n",
            "24/24 [==============================] - 0s 3ms/step - loss: 0.1916 - accuracy: 0.9270 - val_loss: 0.1985 - val_accuracy: 0.9048\n",
            "Epoch 29/40\n",
            "24/24 [==============================] - 0s 3ms/step - loss: 0.1617 - accuracy: 0.9325 - val_loss: 0.1955 - val_accuracy: 0.9048\n",
            "Epoch 30/40\n",
            "24/24 [==============================] - 0s 3ms/step - loss: 0.1738 - accuracy: 0.9196 - val_loss: 0.2041 - val_accuracy: 0.9048\n",
            "Epoch 31/40\n",
            "24/24 [==============================] - 0s 3ms/step - loss: 0.1537 - accuracy: 0.9098 - val_loss: 0.1922 - val_accuracy: 0.9048\n",
            "Epoch 32/40\n",
            "24/24 [==============================] - 0s 3ms/step - loss: 0.1007 - accuracy: 0.9578 - val_loss: 0.1949 - val_accuracy: 0.9048\n",
            "Epoch 33/40\n",
            "24/24 [==============================] - 0s 3ms/step - loss: 0.1279 - accuracy: 0.9507 - val_loss: 0.2065 - val_accuracy: 0.9048\n",
            "Epoch 34/40\n",
            "24/24 [==============================] - 0s 3ms/step - loss: 0.1580 - accuracy: 0.9205 - val_loss: 0.1799 - val_accuracy: 0.9048\n",
            "Epoch 35/40\n",
            "24/24 [==============================] - 0s 3ms/step - loss: 0.1518 - accuracy: 0.9524 - val_loss: 0.1882 - val_accuracy: 0.9048\n",
            "Epoch 36/40\n",
            "24/24 [==============================] - 0s 3ms/step - loss: 0.1395 - accuracy: 0.9402 - val_loss: 0.1716 - val_accuracy: 0.9048\n",
            "Epoch 37/40\n",
            "24/24 [==============================] - 0s 3ms/step - loss: 0.1178 - accuracy: 0.9480 - val_loss: 0.1391 - val_accuracy: 0.9048\n",
            "Epoch 38/40\n",
            "24/24 [==============================] - 0s 3ms/step - loss: 0.1214 - accuracy: 0.9699 - val_loss: 0.1632 - val_accuracy: 0.9048\n",
            "Epoch 39/40\n",
            "24/24 [==============================] - 0s 3ms/step - loss: 0.1160 - accuracy: 0.9281 - val_loss: 0.1733 - val_accuracy: 0.9048\n",
            "Epoch 40/40\n",
            "24/24 [==============================] - 0s 3ms/step - loss: 0.1543 - accuracy: 0.9604 - val_loss: 0.1346 - val_accuracy: 0.9048\n"
          ],
          "name": "stdout"
        }
      ]
    },
    {
      "cell_type": "code",
      "metadata": {
        "colab": {
          "base_uri": "https://localhost:8080/"
        },
        "id": "exSfFbufFO2m",
        "outputId": "eab0b781-ab1c-477a-bd3f-593bb120a4b9"
      },
      "source": [
        "history.history.keys()"
      ],
      "execution_count": 441,
      "outputs": [
        {
          "output_type": "execute_result",
          "data": {
            "text/plain": [
              "dict_keys(['loss', 'accuracy', 'val_loss', 'val_accuracy'])"
            ]
          },
          "metadata": {
            "tags": []
          },
          "execution_count": 441
        }
      ]
    },
    {
      "cell_type": "code",
      "metadata": {
        "colab": {
          "base_uri": "https://localhost:8080/",
          "height": 592
        },
        "id": "kNVLnEFaFRdl",
        "outputId": "993a6884-194f-45de-dba3-da63e675c203"
      },
      "source": [
        "import matplotlib.pyplot as plt\n",
        "\n",
        "acc = history.history['accuracy']\n",
        "val_acc = history.history['val_accuracy']\n",
        "\n",
        "epochs = range(epochs)\n",
        "fig = plt.figure(figsize=(10,10))\n",
        "plt.plot(epochs, acc, 'b')\n",
        "plt.plot(epochs, val_acc, 'g')\n",
        "plt.show()\n"
      ],
      "execution_count": 442,
      "outputs": [
        {
          "output_type": "display_data",
          "data": {
            "image/png": "[encoded data removed]",
            "text/plain": [
              "<Figure size 720x720 with 1 Axes>"
            ]
          },
          "metadata": {
            "tags": [],
            "needs_background": "light"
          }
        }
      ]
    },
    {
      "cell_type": "code",
      "metadata": {
        "colab": {
          "base_uri": "https://localhost:8080/"
        },
        "id": "g3TWJK7VZP_v",
        "outputId": "9b6add35-2c7a-4f4f-96b4-4873a2c5bc27"
      },
      "source": [
        "model.evaluate(test_data, test_labels)"
      ],
      "execution_count": 443,
      "outputs": [
        {
          "output_type": "stream",
          "text": [
            "5/5 [==============================] - 0s 2ms/step - loss: 0.2811 - accuracy: 0.9362\n"
          ],
          "name": "stdout"
        },
        {
          "output_type": "execute_result",
          "data": {
            "text/plain": [
              "[0.28107863664627075, 0.936170220375061]"
            ]
          },
          "metadata": {
            "tags": []
          },
          "execution_count": 443
        }
      ]
    }
  ]
}